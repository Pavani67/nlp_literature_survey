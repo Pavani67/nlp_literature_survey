{
  "nbformat": 4,
  "nbformat_minor": 0,
  "metadata": {
    "colab": {
      "provenance": []
    },
    "kernelspec": {
      "name": "python3",
      "display_name": "Python 3"
    },
    "language_info": {
      "name": "python"
    }
  },
  "cells": [
    {
      "cell_type": "code",
      "execution_count": 1,
      "metadata": {
        "colab": {
          "base_uri": "https://localhost:8080/"
        },
        "id": "MUe8tzYfSnIg",
        "outputId": "e88f5fcd-2e6b-428c-f862-07ab8e4bff2b"
      },
      "outputs": [
        {
          "output_type": "stream",
          "name": "stdout",
          "text": [
            "Cloning into 'MemN2N_Tensorflow'...\n",
            "remote: Enumerating objects: 32, done.\u001b[K\n",
            "remote: Total 32 (delta 0), reused 0 (delta 0), pack-reused 32\u001b[K\n",
            "Unpacking objects: 100% (32/32), 11.38 KiB | 1.42 MiB/s, done.\n"
          ]
        }
      ],
      "source": [
        "!git clone https://github.com/yashbonde/MemN2N_Tensorflow.git"
      ]
    },
    {
      "cell_type": "code",
      "source": [
        "!python3 memn2n_simple.py"
      ],
      "metadata": {
        "colab": {
          "base_uri": "https://localhost:8080/"
        },
        "id": "swal0JuxSs91",
        "outputId": "a4dd2189-7072-4b7b-c70d-bf2811cfb0f6"
      },
      "execution_count": 29,
      "outputs": [
        {
          "output_type": "stream",
          "name": "stdout",
          "text": [
            "2023-05-06 00:11:42.571538: I tensorflow/core/platform/cpu_feature_guard.cc:182] This TensorFlow binary is optimized to use available CPU instructions in performance-critical operations.\n",
            "To enable the following instructions: AVX2 FMA, in other operations, rebuild TensorFlow with the appropriate compiler flags.\n",
            "2023-05-06 00:11:43.679346: W tensorflow/compiler/tf2tensorrt/utils/py_utils.cc:38] TF-TRT Warning: Could not find TensorRT\n",
            "WARNING:tensorflow:From /usr/local/lib/python3.10/dist-packages/tensorflow/python/util/dispatch.py:1176: softmax_cross_entropy_with_logits (from tensorflow.python.ops.nn_ops) is deprecated and will be removed in a future version.\n",
            "Instructions for updating:\n",
            "\n",
            "Future major versions of TensorFlow will allow gradients to flow\n",
            "into the labels input on backprop by default.\n",
            "\n",
            "See `tf.nn.softmax_cross_entropy_with_logits_v2`.\n",
            "\n",
            "W0506 00:11:46.250513 140446761887552 deprecation.py:364] From /usr/local/lib/python3.10/dist-packages/tensorflow/python/util/dispatch.py:1176: softmax_cross_entropy_with_logits (from tensorflow.python.ops.nn_ops) is deprecated and will be removed in a future version.\n",
            "Instructions for updating:\n",
            "\n",
            "Future major versions of TensorFlow will allow gradients to flow\n",
            "into the labels input on backprop by default.\n",
            "\n",
            "See `tf.nn.softmax_cross_entropy_with_logits_v2`.\n",
            "\n",
            "2023-05-06 00:11:46.610821: I tensorflow/compiler/mlir/mlir_graph_optimization_pass.cc:353] MLIR V1 optimization pass is not enabled\n",
            "{'epoch': 0, 'valid_acc': 0.14, 'train_acc': 0.16444444444444448}\n",
            "{'epoch': 20, 'valid_acc': 0.41000000000000003, 'train_acc': 0.4588888888888889}\n",
            "{'epoch': 40, 'valid_acc': 0.43000000000000005, 'train_acc': 0.5588888888888888}\n",
            "{'epoch': 60, 'valid_acc': 0.5, 'train_acc': 0.6233333333333334}\n",
            "{'epoch': 80, 'valid_acc': 0.52, 'train_acc': 0.7122222222222221}\n",
            "{'epoch': 100, 'valid_acc': 0.5, 'train_acc': 0.671111111111111}\n",
            "{'epoch': 120, 'valid_acc': 0.49, 'train_acc': 0.7544444444444445}\n",
            "{'epoch': 140, 'valid_acc': 0.48, 'train_acc': 0.72}\n",
            "{'epoch': 160, 'valid_acc': 0.47000000000000003, 'train_acc': 0.7455555555555554}\n",
            "{'epoch': 180, 'valid_acc': 0.47000000000000003, 'train_acc': 0.7577777777777778}\n"
          ]
        }
      ]
    }
  ]
}